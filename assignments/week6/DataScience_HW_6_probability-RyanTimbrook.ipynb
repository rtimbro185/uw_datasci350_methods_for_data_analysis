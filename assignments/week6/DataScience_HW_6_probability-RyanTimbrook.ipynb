{
 "cells": [
  {
   "cell_type": "markdown",
   "metadata": {},
   "source": [
    "\n",
    "## Assignment 6 - Ryan Timbrook\n",
    "Probability of texting.\n",
    "– You are asked to compute the probability that the driver of a car is texting at a specific intersection.\n",
    "– Nationally the cumulative probability that a driver is texting is:\n",
    "    > P = 0.5, at x = 0.1\n",
    "    > P = 0.75 at x = 0.3\n",
    "– You observe cars at a location three times and note the number of texting drivers:\n",
    "    1. 2 texting out of 20 drivers\n",
    "    2. 4 texting out of 20 drivers\n",
    "    3. 1 texting out of 20 drivers\n",
    "    > Given these data\n",
    "        – Compute the Beta prior, and report the coefficients\n",
    "        – Plot the prior, likelihood and posterior three times as you update your belief based on collecting more data\n",
    "        – Simulate the final posterior distribution and do the following:\n",
    "            > Plot the posterior with the 90% HDI shown\n",
    "            > Report the upper and lower limits of the 90% HDI\n",
    "            > Of the next hundred drivers what are the number of texting drivers in the 90% HDI?\n",
    "            > Are the drivers in this area better or worse that the national figures indicate?\n"
   ]
  },
  {
   "cell_type": "code",
   "execution_count": 1,
   "metadata": {
    "collapsed": false
   },
   "outputs": [
    {
     "name": "stdout",
     "output_type": "stream",
     "text": [
      "\f"
     ]
    },
    {
     "name": "stderr",
     "output_type": "stream",
     "text": [
      "Loading required package: LearnBayes\n",
      "Warning message:\n",
      "\"package 'LearnBayes' was built under R version 3.3.2\"\n",
      "Attaching package: 'LearnBayes'\n",
      "\n",
      "The following object is masked from 'package:boot':\n",
      "\n",
      "    darwin\n",
      "\n",
      "Loading required package: repr\n",
      "Warning message:\n",
      "\"package 'repr' was built under R version 3.3.2\""
     ]
    }
   ],
   "source": [
    "# Clear memory and console \n",
    "rm(list=ls())\n",
    "cat('\\014')\n",
    "# Require Libraries\n",
    "if(!require(LearnBayes)){install.packages(\"LearnBayes\")}\n",
    "if(!require(repr)){install.packages(\"repr\")}"
   ]
  },
  {
   "cell_type": "markdown",
   "metadata": {},
   "source": [
    "Compute the Beta prior, and report the coefficients"
   ]
  },
  {
   "cell_type": "code",
   "execution_count": 2,
   "metadata": {
    "collapsed": false
   },
   "outputs": [
    {
     "data": {
      "text/html": [
       "<ol class=list-inline>\n",
       "\t<li>0.41</li>\n",
       "\t<li>1.73</li>\n",
       "</ol>\n"
      ],
      "text/latex": [
       "\\begin{enumerate*}\n",
       "\\item 0.41\n",
       "\\item 1.73\n",
       "\\end{enumerate*}\n"
      ],
      "text/markdown": [
       "1. 0.41\n",
       "2. 1.73\n",
       "\n",
       "\n"
      ],
      "text/plain": [
       "[1] 0.41 1.73"
      ]
     },
     "metadata": {},
     "output_type": "display_data"
    }
   ],
   "source": [
    "# beta parameters, compute the beta prior based on the nationally cumulative probability\n",
    "beta.par = beta.select(list(p=0.5, x=0.1), list(p=0.75, x=0.3))\n",
    "beta.par"
   ]
  },
  {
   "cell_type": "markdown",
   "metadata": {},
   "source": [
    "Plot the prior, likelihood and posterior three times as you update your belief based on collecting more data"
   ]
  },
  {
   "cell_type": "code",
   "execution_count": 3,
   "metadata": {
    "collapsed": false
   },
   "outputs": [
    {
     "data": {
      "text/html": [
       "<ol class=list-inline>\n",
       "\t<li>2.41</li>\n",
       "\t<li>19.73</li>\n",
       "</ol>\n"
      ],
      "text/latex": [
       "\\begin{enumerate*}\n",
       "\\item 2.41\n",
       "\\item 19.73\n",
       "\\end{enumerate*}\n"
      ],
      "text/markdown": [
       "1. 2.41\n",
       "2. 19.73\n",
       "\n",
       "\n"
      ],
      "text/plain": [
       "[1]  2.41 19.73"
      ]
     },
     "metadata": {},
     "output_type": "display_data"
    },
    {
     "data": {
      "image/png": "[encoded data removed]",
      "text/plain": [
       "Plot with title \"Bayes Triplot, beta( 0.41 , 1.73 ) prior, s= 2 , f= 18\""
      ]
     },
     "metadata": {},
     "output_type": "display_data"
    }
   ],
   "source": [
    "# Plot of the prior, likelihood and posterior for each observation\n",
    "options(repr.plot.width = 6, repr.plot.height = 5)\n",
    "# 1) 2 TEXTING, 18 NOT_TEXTING\n",
    "beta.par + c(2, 18)\n",
    "triplot(beta.par, c(2, 18))"
   ]
  },
  {
   "cell_type": "code",
   "execution_count": 4,
   "metadata": {
    "collapsed": false
   },
   "outputs": [
    {
     "data": {
      "text/html": [
       "<ol class=list-inline>\n",
       "\t<li>6.41</li>\n",
       "\t<li>35.73</li>\n",
       "</ol>\n"
      ],
      "text/latex": [
       "\\begin{enumerate*}\n",
       "\\item 6.41\n",
       "\\item 35.73\n",
       "\\end{enumerate*}\n"
      ],
      "text/markdown": [
       "1. 6.41\n",
       "2. 35.73\n",
       "\n",
       "\n"
      ],
      "text/plain": [
       "[1]  6.41 35.73"
      ]
     },
     "metadata": {},
     "output_type": "display_data"
    },
    {
     "data": {
      "image/png": "[encoded data removed]",
      "text/plain": [
       "Plot with title \"Bayes Triplot, beta( 0.41 , 1.73 ) prior, s= 6 , f= 34\""
      ]
     },
     "metadata": {},
     "output_type": "display_data"
    }
   ],
   "source": [
    "# 2) 4 TEXTING, 16 NOT_TEXTING - add success and failures from previous data\n",
    "beta.par + c(6, 34)\n",
    "triplot(beta.par, c(6, 34))"
   ]
  },
  {
   "cell_type": "code",
   "execution_count": 5,
   "metadata": {
    "collapsed": false
   },
   "outputs": [
    {
     "data": {
      "text/html": [
       "<ol class=list-inline>\n",
       "\t<li>7.41</li>\n",
       "\t<li>54.73</li>\n",
       "</ol>\n"
      ],
      "text/latex": [
       "\\begin{enumerate*}\n",
       "\\item 7.41\n",
       "\\item 54.73\n",
       "\\end{enumerate*}\n"
      ],
      "text/markdown": [
       "1. 7.41\n",
       "2. 54.73\n",
       "\n",
       "\n"
      ],
      "text/plain": [
       "[1]  7.41 54.73"
      ]
     },
     "metadata": {},
     "output_type": "display_data"
    },
    {
     "data": {
      "image/png": "[encoded data removed]",
      "text/plain": [
       "Plot with title \"Bayes Triplot, beta( 0.41 , 1.73 ) prior, s= 7 , f= 53\""
      ]
     },
     "metadata": {},
     "output_type": "display_data"
    }
   ],
   "source": [
    "# 3) 1 TEXTING, 19 NOT_TEXTING - add success and failures from previous data\n",
    "beta.par + c(7, 53)\n",
    "triplot(beta.par, c(7, 53))"
   ]
  },
  {
   "cell_type": "markdown",
   "metadata": {},
   "source": [
    "Simulate the final posterior distribution and do the following:\n",
    "        > Plot the posterior with the 90% HDI shown\n",
    "        > Report the upper and lower limits of the 90% HDI\n",
    "        > Of the next hundred drivers what are the number of texting drivers in the 90% HDI?\n",
    "        > Are the drivers in this area better or worse that the national figures indicate?"
   ]
  },
  {
   "cell_type": "markdown",
   "metadata": {},
   "source": [
    "Plot the posterior with the 90% HDI shown\n",
    "Report the upper and lower limits of the 90% HDI"
   ]
  },
  {
   "cell_type": "code",
   "execution_count": 6,
   "metadata": {
    "collapsed": false
   },
   "outputs": [
    {
     "data": {
      "text/html": [
       "<dl class=dl-horizontal>\n",
       "\t<dt>5%</dt>\n",
       "\t\t<dd>0.0589697266018973</dd>\n",
       "\t<dt>95%</dt>\n",
       "\t\t<dd>0.192268807963088</dd>\n",
       "</dl>\n"
      ],
      "text/latex": [
       "\\begin{description*}\n",
       "\\item[5\\textbackslash{}\\%] 0.0589697266018973\n",
       "\\item[95\\textbackslash{}\\%] 0.192268807963088\n",
       "\\end{description*}\n"
      ],
      "text/markdown": [
       "5%\n",
       ":   0.058969726601897395%\n",
       ":   0.192268807963088\n",
       "\n"
      ],
      "text/plain": [
       "        5%        95% \n",
       "0.05896973 0.19226881 "
      ]
     },
     "metadata": {},
     "output_type": "display_data"
    },
    {
     "data": {
      "image/png": "[encoded data removed]",
      "text/plain": [
       "Plot with title \"Normal Q-Q Plot\""
      ]
     },
     "metadata": {},
     "output_type": "display_data"
    }
   ],
   "source": [
    "#Simulate the final posterior distribution and do the following:\n",
    "# > Plot the posterior with the 90% HDI shown\n",
    "# > Report the upper and lower limits of the 90% HDI\n",
    "options(repr.plot.width=8, repr.plot.height=5)\n",
    "beta.post.par = beta.par + c(7, 53)\n",
    "post.sample = rbeta(10000, beta.post.par[1], beta.post.par[2])\n",
    "par(mfrow = c(1,2))\n",
    "quants = quantile(post.sample, c(0.05, 0.95))\n",
    "breaks = seq(min(post.sample), max(post.sample), length.out = 61)\n",
    "hist(post.sample, breaks = breaks, \n",
    "     main = 'Distribution of samples \\n with 90% HDI',\n",
    "     xlab = 'Sample value',\n",
    "     ylab = 'Density')\n",
    "abline(v = quants[1], lty = 3, col = 'red', lwd = 3)\n",
    "abline(v = quants[2], lty = 3, col = 'red', lwd = 3)\n",
    "qqnorm(post.sample)\n",
    "par(mfrow = c(1,1))\n",
    "quants"
   ]
  },
  {
   "cell_type": "code",
   "execution_count": 7,
   "metadata": {
    "collapsed": false
   },
   "outputs": [
    {
     "data": {
      "image/png": "[encoded data removed]",
      "text/plain": [
       "Plot with title \"Predictive Dist., beta( 7.41 , 54.73 ) prior, n= 60 , yobs= 7\""
      ]
     },
     "metadata": {},
     "output_type": "display_data"
    }
   ],
   "source": [
    "## check on the model\n",
    "predplot(beta.post.par, 60, 7)"
   ]
  },
  {
   "cell_type": "markdown",
   "metadata": {},
   "source": [
    "Of the next hundred drivers what are the number of texting drivers in the 90% HDI?"
   ]
  },
  {
   "cell_type": "code",
   "execution_count": 8,
   "metadata": {
    "collapsed": false
   },
   "outputs": [
    {
     "data": {
      "text/html": [
       "<dl>\n",
       "\t<dt>$prob</dt>\n",
       "\t\t<dd>0.909895592143919</dd>\n",
       "\t<dt>$set</dt>\n",
       "\t\t<dd><ol class=list-inline>\n",
       "\t<li>4</li>\n",
       "\t<li>5</li>\n",
       "\t<li>6</li>\n",
       "\t<li>7</li>\n",
       "\t<li>8</li>\n",
       "\t<li>9</li>\n",
       "\t<li>10</li>\n",
       "\t<li>11</li>\n",
       "\t<li>12</li>\n",
       "\t<li>13</li>\n",
       "\t<li>14</li>\n",
       "\t<li>15</li>\n",
       "\t<li>16</li>\n",
       "\t<li>17</li>\n",
       "\t<li>18</li>\n",
       "\t<li>19</li>\n",
       "\t<li>20</li>\n",
       "</ol>\n",
       "</dd>\n",
       "</dl>\n"
      ],
      "text/latex": [
       "\\begin{description}\n",
       "\\item[\\$prob] 0.909895592143919\n",
       "\\item[\\$set] \\begin{enumerate*}\n",
       "\\item 4\n",
       "\\item 5\n",
       "\\item 6\n",
       "\\item 7\n",
       "\\item 8\n",
       "\\item 9\n",
       "\\item 10\n",
       "\\item 11\n",
       "\\item 12\n",
       "\\item 13\n",
       "\\item 14\n",
       "\\item 15\n",
       "\\item 16\n",
       "\\item 17\n",
       "\\item 18\n",
       "\\item 19\n",
       "\\item 20\n",
       "\\end{enumerate*}\n",
       "\n",
       "\\end{description}\n"
      ],
      "text/markdown": [
       "$prob\n",
       ":   0.909895592143919\n",
       "$set\n",
       ":   1. 4\n",
       "2. 5\n",
       "3. 6\n",
       "4. 7\n",
       "5. 8\n",
       "6. 9\n",
       "7. 10\n",
       "8. 11\n",
       "9. 12\n",
       "10. 13\n",
       "11. 14\n",
       "12. 15\n",
       "13. 16\n",
       "14. 17\n",
       "15. 18\n",
       "16. 19\n",
       "17. 20\n",
       "\n",
       "\n",
       "\n",
       "\n",
       "\n"
      ],
      "text/plain": [
       "$prob\n",
       "[1] 0.9098956\n",
       "\n",
       "$set\n",
       " [1]  4  5  6  7  8  9 10 11 12 13 14 15 16 17 18 19 20\n"
      ]
     },
     "metadata": {},
     "output_type": "display_data"
    },
    {
     "data": {
      "image/png": "[encoded data removed]",
      "text/plain": [
       "Plot with title \"Probability distribution of successes in 100 trials\""
      ]
     },
     "metadata": {},
     "output_type": "display_data"
    }
   ],
   "source": [
    "## Of the next hundred drivers what are the number of texting drivers in the 90% HDI?\n",
    "n = 100\n",
    "s = 0:n\n",
    "pred.probs = pbetap(beta.post.par, n, s)\n",
    "plot(s, pred.probs, type=\"h\", \n",
    "     main = paste('Probability distribution of successes in', as.character(n), 'trials'),\n",
    "     xlab = 'Successes')\n",
    "discint(cbind(s, pred.probs), 0.90)"
   ]
  },
  {
   "cell_type": "markdown",
   "metadata": {},
   "source": [
    "There are 17 texting drivers in the 90% HDI"
   ]
  },
  {
   "cell_type": "code",
   "execution_count": 9,
   "metadata": {
    "collapsed": false
   },
   "outputs": [
    {
     "data": {
      "text/html": [
       "<ol class=list-inline>\n",
       "\t<li>0.41</li>\n",
       "\t<li>1.73</li>\n",
       "</ol>\n"
      ],
      "text/latex": [
       "\\begin{enumerate*}\n",
       "\\item 0.41\n",
       "\\item 1.73\n",
       "\\end{enumerate*}\n"
      ],
      "text/markdown": [
       "1. 0.41\n",
       "2. 1.73\n",
       "\n",
       "\n"
      ],
      "text/plain": [
       "[1] 0.41 1.73"
      ]
     },
     "metadata": {},
     "output_type": "display_data"
    },
    {
     "data": {
      "text/html": [
       "<ol class=list-inline>\n",
       "\t<li>17.41</li>\n",
       "\t<li>84.73</li>\n",
       "</ol>\n"
      ],
      "text/latex": [
       "\\begin{enumerate*}\n",
       "\\item 17.41\n",
       "\\item 84.73\n",
       "\\end{enumerate*}\n"
      ],
      "text/markdown": [
       "1. 17.41\n",
       "2. 84.73\n",
       "\n",
       "\n"
      ],
      "text/plain": [
       "[1] 17.41 84.73"
      ]
     },
     "metadata": {},
     "output_type": "display_data"
    },
    {
     "data": {
      "image/png": "[encoded data removed]",
      "text/plain": [
       "Plot with title \"Bayes Triplot, beta( 0.41 , 1.73 ) prior, s= 17 , f= 83\""
      ]
     },
     "metadata": {},
     "output_type": "display_data"
    }
   ],
   "source": [
    "#Are the drivers in this area better or worse than the national figures indicate?\n",
    "\n",
    "#17% of drivers TEXTING\n",
    "#National Average\n",
    "nat.ave.q1 = list(p=.5,x=.1)\n",
    "nat.ave.q2 = list(p=.75,x=.3)\n",
    "nat.ave.beta.par = beta.select(nat.ave.q1,nat.ave.q2)\n",
    "nat.ave.beta.par\n",
    "\n",
    "#apply national average prior \n",
    "nat.ave.beta.par + c(17, 83)\n",
    "triplot(nat.ave.beta.par, c(17, 83))"
   ]
  },
  {
   "cell_type": "markdown",
   "metadata": {},
   "source": [
    "These drivers appear to be in par with the national average"
   ]
  }
 ],
 "metadata": {
  "anaconda-cloud": {},
  "kernelspec": {
   "display_name": "R",
   "language": "R",
   "name": "ir"
  },
  "language_info": {
   "codemirror_mode": "r",
   "file_extension": ".r",
   "mimetype": "text/x-r-source",
   "name": "R",
   "pygments_lexer": "r",
   "version": "3.3.0"
  }
 },
 "nbformat": 4,
 "nbformat_minor": 0
}
