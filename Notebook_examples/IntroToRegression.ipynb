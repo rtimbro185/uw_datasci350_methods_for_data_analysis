{
 "cells": [
  {
   "cell_type": "markdown",
   "metadata": {},
   "source": [
    "# Introduction to Regression\n",
    "\n",
    "### Data Science 350\n",
    "### Stephen F Elston\n",
    "\n",
    "## Introduction\n",
    "\n",
    "The method of regression is one of the oldest and most widely used analytics methods. The goal of regression is to produce a model that represents the ‘best fit’ to some observed data. Typically the model is a function describing some type of curve (lines, parabolas, etc.) that is determined by a set of parameters (e.g., slope and intercept). “Best fit” means that there is an optimal set of parameters according to an evaluation criteria we choose.\n",
    "\n",
    "A regression models attempt to predict the value of one variable, known as the **dependent variable**, **response variable** or **label**, using the values of other variables, known as **independent variables**, **explainatory variables** or **features**. Single regression has one label used to predict one feature. Multiple regression uses two of more feature variables. \n",
    "\n",
    "Virtually all machine learning models, including some of the latest deep learning methods, are a form of regression. There methods often suffer from the same problems, including overfitting and mathematically unstable fitting methods. \n",
    "\n",
    "Linear regression is the foundational form of regression. In linear regression the squared error of the predictions of the dependent variable using the independent variable. This approach is know as the **method of least squares**.\n",
    "\n",
    "## History\n",
    "\n",
    "Regression is based on the method of least squares or the method of minimum mean square error. The ideas around least squares or averaging errors have occured over nearly three centruies. The fist known publication of a 'method of avergages' was by the German astronomer Tobias Mayer in 1750. Lapace used a similar method which he published in 1788.\n",
    "\n",
    "![](img/TobiasMayer.jpg)\n",
    "\n",
    "The first publication of the method or least squares was by the French mathematician Adrien-Marie Legendre in 1805. \n",
    "\n",
    "![](img/Legendre.jpg)\n",
    "<center>**Caricature of Legendre**, published method of least squares\n",
    "\n",
    "It is very likely that the German physicist and mathematician developed the method of least squares as early as 1795, but did not publish the method until 1809, aside for a reference in a letter in 1799. Gauss never disputed Legendre's priority in publication. Legendre did not return the favor, and opposed any notion that Gauss had used the method earlier. \n",
    "\n",
    "![](img/Carl_Friedrich_Gauss.jpg)\n",
    "<center>**Carl Friedrich Gauss**, early adoptor of least squares\n",
    "\n",
    "The first use of regression was published by Francis Gaulton in 1886. Gaulton, a cousin of Charles Darwin, also gave the method the name regression. Gaulton was interested in determining which traits of plants and animals, including humans, could be said to be inherited. \n",
    "\n",
    "<center>![](img/Francis_Galton.jpg)\n",
    "**Francis Galton**, inventor of regression\n",
    "\n",
    "While Gaulton invented regression, it fell to Karl Pearson to put regression and multiple regression on a firm mathematical footing. Pearson's 1898 publication proposed a method of regression as we understand it today. \n",
    "\n",
    "Many others have expanded the theory of regression in the 120 years since Pearson's paper. Notably, Joseph Berkson published the logistic regression method in 1944, one of the first classification algorithms. In recent times the interest in machine learning has lead to a rapid increase in the numbers and types of regression models. "
   ]
  },
  {
   "cell_type": "markdown",
   "metadata": {},
   "source": [
    "## Introduction to Linear Regression\n",
    "\n",
    "We will inear models are foundational\n",
    "- Linear models derived with linear algebra\n",
    "- Basis of many machine learning models\n",
    "- Understanding linear models is basis for understanding behavior of stats and ML models\n",
    "- Basis of time series models\n",
    "\n",
    "### Linear model of a strait line\n",
    "\n",
    "Let's have a look at the simplest case of a regression model for a straght line. If we have one feature and one label, there are some number of values pairs, ${x_i,y_i}$, we can define a line that best fits that data.  \n",
    "\n",
    "![](img/ymxb.jpg)\n",
    "<center>**Single regression model**\n",
    "\n",
    "$$where\\\\\n",
    "slope = m = \\frac{rise}{run} = \\frac{\\delta y}{\\delta x}\\\\\n",
    "and\\\\\n",
    "y = b\\ at\\ x = 0$$\n",
    "\n",
    "\n",
    "If we have a number of values pairs, ${x_i,y_i}$, we can write the equation for the line with the errors as:\n",
    "\n",
    "$$y_i = mx_i + b + \\epsilon_i \\\\\n",
    "where \\\\\n",
    "\\epsilon_i = error$$\n",
    "\n",
    "We can visualize these errors as shown in the fiture below.\n",
    "\n",
    "![](img/LSRegression.jpg)\n",
    "<center>**Example of Least Squares Regression**\n",
    "\n",
    "We want to solve for $m$ and $b$ by minimizing the error, $\\epsilon_i$. We call this **least sqares regression**.\n",
    "\n",
    "$$min \\Sigma_i \\epsilon^2 = min \\Sigma_i{ (y_i - (mx_i + b))^2}$$\n",
    "\n",
    "There are lots of compuationally efficient algorithms for finding minimums of equations. "
   ]
  },
  {
   "cell_type": "markdown",
   "metadata": {},
   "source": [
    "### A first regresson model\n",
    "\n",
    "Let's give regression a try. The code in the cell below computes data pairs along a straight line. Normally distributed noise is added to the data values. Run this code and examine the head of the data frame."
   ]
  },
  {
   "cell_type": "code",
   "execution_count": 4,
   "metadata": {
    "collapsed": false
   },
   "outputs": [
    {
     "data": {
      "text/html": [
       "<table>\n",
       "<thead><tr><th scope=col>x</th><th scope=col>y</th></tr></thead>\n",
       "<tbody>\n",
       "\t<tr><td>0.0000000 </td><td> 0.7683909</td></tr>\n",
       "\t<tr><td>0.2040816 </td><td>-0.1654128</td></tr>\n",
       "\t<tr><td>0.4081633 </td><td> 0.4402706</td></tr>\n",
       "\t<tr><td>0.6122449 </td><td> 1.4566430</td></tr>\n",
       "\t<tr><td>0.8163265 </td><td> 0.7841537</td></tr>\n",
       "\t<tr><td>1.0204082 </td><td> 1.1456193</td></tr>\n",
       "</tbody>\n",
       "</table>\n"
      ],
      "text/latex": [
       "\\begin{tabular}{r|ll}\n",
       " x & y\\\\\n",
       "\\hline\n",
       "\t 0.0000000  &  0.7683909\\\\\n",
       "\t 0.2040816  & -0.1654128\\\\\n",
       "\t 0.4081633  &  0.4402706\\\\\n",
       "\t 0.6122449  &  1.4566430\\\\\n",
       "\t 0.8163265  &  0.7841537\\\\\n",
       "\t 1.0204082  &  1.1456193\\\\\n",
       "\\end{tabular}\n"
      ],
      "text/markdown": [
       "\n",
       "x | y | \n",
       "|---|---|---|---|---|---|\n",
       "| 0.0000000  |  0.7683909 | \n",
       "| 0.2040816  | -0.1654128 | \n",
       "| 0.4081633  |  0.4402706 | \n",
       "| 0.6122449  |  1.4566430 | \n",
       "| 0.8163265  |  0.7841537 | \n",
       "| 1.0204082  |  1.1456193 | \n",
       "\n",
       "\n"
      ],
      "text/plain": [
       "  x         y         \n",
       "1 0.0000000  0.7683909\n",
       "2 0.2040816 -0.1654128\n",
       "3 0.4081633  0.4402706\n",
       "4 0.6122449  1.4566430\n",
       "5 0.8163265  0.7841537\n",
       "6 1.0204082  1.1456193"
      ]
     },
     "metadata": {},
     "output_type": "display_data"
    }
   ],
   "source": [
    "sim.data <- function(x1, y1, x2, y2, n, sd){\n",
    "  error <- rnorm(n, mean = 0, sd = sd)\n",
    "  data.frame(\n",
    "              x = seq(from = x1, to = x2, length.out = n),\n",
    "              y = (seq(from = y1, to = y2, length.out = n) + error)\n",
    "            )\n",
    "}\n",
    "reg.data = sim.data(0, 0, 10, 10, 50, 1)\n",
    "head(reg.data)"
   ]
  },
  {
   "cell_type": "markdown",
   "metadata": {},
   "source": [
    "Next, you can visualize these data by exectuting the code in the cell below. Notice that the points nearly fall on a stright line. "
   ]
  },
  {
   "cell_type": "code",
   "execution_count": 5,
   "metadata": {
    "collapsed": false
   },
   "outputs": [
    {
     "data": {},
     "metadata": {},
     "output_type": "display_data"
    },
    {
     "data": {
      "image/png": "[encoded data removed]",
      "text/plain": [
       "plot without title"
      ]
     },
     "metadata": {},
     "output_type": "display_data"
    }
   ],
   "source": [
    "require(repr)\n",
    "options(repr.plot.width=5, repr.plot.height=5)\n",
    "plot.dat <- function(df){\n",
    "  require(ggplot2)\n",
    "  ggplot(df, aes(x, y)) + \n",
    "    geom_point(size = 2) +\n",
    "    ggtitle('X vs. Y')\n",
    "}\n",
    "plot.dat(reg.data)"
   ]
  },
  {
   "cell_type": "markdown",
   "metadata": {},
   "source": [
    "Now, you are ready to build and evaluate the model using R. R contains extensive linear modeling capabilities. Model definition in R using a powerful and flexible language to define the model. This modeling language was developed by John Chambers, Trevor Hastie, Rick Becker and others at AT&T Bell Labs in the late 1980's and early 1990's.\n",
    "\n",
    "![](img/StatModS_.jpg)\n",
    "<center>**Seminal book on stats modeling language, 1991**\n",
    "\n",
    "For a good [**cheatsheet and summary of the R modeling language**](http://faculty.chicagobooth.edu/richard.hahn/teaching/formulanotation.pdf) look at the posting by Richard Hahn of the Chicago Booth School. \n",
    "\n",
    "Models are defined by an equation using the $\\sim$ symbol to mean modeled by. In summary, the variable to be modeled is always on the left. The relationship between the variabble to be modeled on the right. This basic scheme can be written as shown here. \n",
    "\n",
    "$$dependent\\ variable\\sim indepenent\\ variables$$\n",
    "\n",
    "For example, if the dependent variable (dv) is modeled by two independent variables (var1 and var2), with no interaction, the formula would be:\n",
    "\n",
    "$$dv \\sim var1 + var2$$\n",
    "\n",
    "In our case we only have one independent variable and one dependent variable. The code in the cell below does the following:\n",
    "\n",
    "- Compute the R model object, `mod`, using the formula `y ~ x`.\n",
    "- Use the model object to compute scores (predicted values) for the dependent variable `y`. In this case, we just use the data that was orriginally used to compute the model. In a more general case, you can use other data to make predictions from the model.\n",
    "- The residuals of the model are computed.\n",
    "\n",
    "Execute this code and examine the head of the data frame computed."
   ]
  },
  {
   "cell_type": "code",
   "execution_count": 4,
   "metadata": {
    "collapsed": false
   },
   "outputs": [
    {
     "data": {
      "text/html": [
       "<table>\n",
       "<thead><tr><th scope=col>x</th><th scope=col>y</th><th scope=col>score</th><th scope=col>resids</th></tr></thead>\n",
       "<tbody>\n",
       "\t<tr><td>0.0000000  </td><td>-0.9719594 </td><td>-0.50194582</td><td>-0.47001359</td></tr>\n",
       "\t<tr><td>0.2040816  </td><td>-0.1899238 </td><td>-0.28584323</td><td> 0.09591944</td></tr>\n",
       "\t<tr><td>0.4081633  </td><td>-0.1299487 </td><td>-0.06974064</td><td>-0.06020808</td></tr>\n",
       "\t<tr><td>0.6122449  </td><td> 0.2955225 </td><td> 0.14636195</td><td> 0.14916053</td></tr>\n",
       "\t<tr><td>0.8163265  </td><td>-0.2238688 </td><td> 0.36246454</td><td>-0.58633337</td></tr>\n",
       "\t<tr><td>1.0204082  </td><td> 0.6586363 </td><td> 0.57856713</td><td> 0.08006922</td></tr>\n",
       "</tbody>\n",
       "</table>\n"
      ],
      "text/latex": [
       "\\begin{tabular}{r|llll}\n",
       " x & y & score & resids\\\\\n",
       "\\hline\n",
       "\t 0.0000000   & -0.9719594  & -0.50194582 & -0.47001359\\\\\n",
       "\t 0.2040816   & -0.1899238  & -0.28584323 &  0.09591944\\\\\n",
       "\t 0.4081633   & -0.1299487  & -0.06974064 & -0.06020808\\\\\n",
       "\t 0.6122449   &  0.2955225  &  0.14636195 &  0.14916053\\\\\n",
       "\t 0.8163265   & -0.2238688  &  0.36246454 & -0.58633337\\\\\n",
       "\t 1.0204082   &  0.6586363  &  0.57856713 &  0.08006922\\\\\n",
       "\\end{tabular}\n"
      ],
      "text/markdown": [
       "\n",
       "x | y | score | resids | \n",
       "|---|---|---|---|---|---|\n",
       "| 0.0000000   | -0.9719594  | -0.50194582 | -0.47001359 | \n",
       "| 0.2040816   | -0.1899238  | -0.28584323 |  0.09591944 | \n",
       "| 0.4081633   | -0.1299487  | -0.06974064 | -0.06020808 | \n",
       "| 0.6122449   |  0.2955225  |  0.14636195 |  0.14916053 | \n",
       "| 0.8163265   | -0.2238688  |  0.36246454 | -0.58633337 | \n",
       "| 1.0204082   |  0.6586363  |  0.57856713 |  0.08006922 | \n",
       "\n",
       "\n"
      ],
      "text/plain": [
       "  x         y          score       resids     \n",
       "1 0.0000000 -0.9719594 -0.50194582 -0.47001359\n",
       "2 0.2040816 -0.1899238 -0.28584323  0.09591944\n",
       "3 0.4081633 -0.1299487 -0.06974064 -0.06020808\n",
       "4 0.6122449  0.2955225  0.14636195  0.14916053\n",
       "5 0.8163265 -0.2238688  0.36246454 -0.58633337\n",
       "6 1.0204082  0.6586363  0.57856713  0.08006922"
      ]
     },
     "metadata": {},
     "output_type": "display_data"
    }
   ],
   "source": [
    "mod = lm(y ~ x, data = reg.data)\n",
    "reg.data$score <- predict(mod, data = reg.data)\n",
    "reg.data$resids <- reg.data$y - reg.data$score\n",
    "head(reg.data)"
   ]
  },
  {
   "cell_type": "markdown",
   "metadata": {},
   "source": [
    "The code in the cell below is fairly volumonous, but straight forward. In summary, the code computes summary statistics and makes diagnostic plots for simple R linear models. Execute the code and examine plot of the predicted vs. actual values and the histogram of the residuals. "
   ]
  },
  {
   "cell_type": "code",
   "execution_count": 3,
   "metadata": {
    "collapsed": false
   },
   "outputs": [
    {
     "name": "stderr",
     "output_type": "stream",
     "text": [
      "Loading required package: gridExtra\n",
      "Warning message:\n",
      "\"package 'gridExtra' was built under R version 3.3.2\""
     ]
    },
    {
     "ename": "ERROR",
     "evalue": "Error in eval(expr, envir, enclos): object 'score' not found\n",
     "output_type": "error",
     "traceback": [
      "Error in eval(expr, envir, enclos): object 'score' not found\nTraceback:\n",
      "1. plot.regression(reg.data, mod)",
      "2. grid.arrange(p1, p2, ncol = 2)   # at line 18 of file <text>",
      "3. arrangeGrob(...)",
      "4. lapply(grobs[toconv], ggplot2::ggplotGrob)",
      "5. FUN(X[[i]], ...)",
      "6. ggplot_gtable(ggplot_build(x))",
      "7. ggplot_build(x)",
      "8. by_layer(function(l, d) l$compute_aesthetics(d, plot))",
      "9. f(l = layers[[i]], d = data[[i]])",
      "10. l$compute_aesthetics(d, plot)",
      "11. f(..., self = self)",
      "12. lapply(aesthetics, eval, envir = data, enclos = plot$plot_env)",
      "13. FUN(X[[i]], ...)",
      "14. eval(expr, envir, enclos)"
     ]
    }
   ],
   "source": [
    "options(repr.plot.width=8, repr.plot.height=4)\n",
    "plot.regression <- function(df, mod, x = 'x', y = 'y', k = 2, two.plot = TRUE){\n",
    "  require(ggplot2)\n",
    "  require(gridExtra)\n",
    "  \n",
    "  if(two.plot) {\n",
    "      p1 <- ggplot(df, aes_string(x, y)) + \n",
    "            geom_point(size = 2) +\n",
    "            geom_line(aes_string(x, 'score'), color = 'Red') + \n",
    "            ggtitle('X vs. Y with regression line')\n",
    "      }\n",
    " \n",
    "  p2 <- ggplot(df, aes(resids)) +\n",
    "           geom_histogram(aes(y = ..density..)) +\n",
    "           geom_density(color = 'red', fill = 'red', alpha = 0.2) +\n",
    "           ggtitle('Histogram of residuals')\n",
    "  \n",
    "  if(two.plot) {grid.arrange(p1, p2, ncol = 2)}\n",
    "  else{print(p2)}\n",
    "  if(k > 2){plot(mod)}\n",
    "  \n",
    "  Ybar = mean(df$y)\n",
    "  SST <- sum((df$y - Ybar)^2)\n",
    "  SSR <- sum(df$resids * df$resids)\n",
    "  SSE = SST - SSR\n",
    "  cat(paste('SSE =', as.character(SSE), '\\n'))\n",
    "  cat(paste('SSR =', as.character(SSR), '\\n'))\n",
    "  cat(paste('SST =', as.character(SSE + SSR), '\\n'))\n",
    "  cat(paste('RMSE =', as.character(SSE/(nrow(df) - 2)), '\\n'))\n",
    "#  if(k == 1 | k == 2){\n",
    "    n = nrow(df)\n",
    "    adjR2  <- 1.0 - (SSR/SST) * ((n - 1)/(n - k - 1))\n",
    "    cat(paste('Adjusted R^2 =', as.character(adjR2)), '\\n')\n",
    "    cat(paste('Intercept =', as.character(mod$coefficients[1]), '\\n'))\n",
    "    cat(paste('Slope =', as.character(mod$coefficients[2]), '\\n'))\n",
    "#  } else {\n",
    "      cat('\\n')\n",
    "      cat('\\n')\n",
    "      cat('Summary on R Model Object')\n",
    "      summary(mod)\n",
    "#  }\n",
    "}\n",
    "plot.regression(reg.data, mod)"
   ]
  },
  {
   "cell_type": "markdown",
   "metadata": {},
   "source": [
    "**Your Turn:** Create a regression moodel from synthetic data with intercept of 0 and maximum value at ${x = 10, y = 10}$, and with a the error having a standard deviation of 5. Plot the result of your model. How does this slope and intercept of this model compare to the model from the data with a standard deviation of 1? "
   ]
  },
  {
   "cell_type": "code",
   "execution_count": 33,
   "metadata": {
    "collapsed": false
   },
   "outputs": [
    {
     "name": "stderr",
     "output_type": "stream",
     "text": [
      "`stat_bin()` using `bins = 30`. Pick better value with `binwidth`.\n"
     ]
    },
    {
     "name": "stdout",
     "output_type": "stream",
     "text": [
      "SSE = 411.178193072511 \n",
      "SSR = 1467.79751543689 \n",
      "SST = 1878.9757085094 \n",
      "RMSE = 8.56621235567732 \n",
      "Adjusted R^2 = 0.185589799139636 \n",
      "Intercept = 0.400821792033667 \n",
      "Slope = 0.97371892213315 \n",
      "\n",
      "\n",
      "Summary on R Model Object"
     ]
    },
    {
     "data": {
      "text/plain": [
       "\n",
       "Call:\n",
       "lm(formula = y ~ x, data = reg.data.5)\n",
       "\n",
       "Residuals:\n",
       "     Min       1Q   Median       3Q      Max \n",
       "-11.8293  -3.3029  -0.4125   2.9021  10.7158 \n",
       "\n",
       "Coefficients:\n",
       "            Estimate Std. Error t value Pr(>|t|)    \n",
       "(Intercept)   0.4008     1.5409   0.260 0.795883    \n",
       "x             0.9737     0.2655   3.667 0.000614 ***\n",
       "---\n",
       "Signif. codes:  0 '***' 0.001 '**' 0.01 '*' 0.05 '.' 0.1 ' ' 1\n",
       "\n",
       "Residual standard error: 5.53 on 48 degrees of freedom\n",
       "Multiple R-squared:  0.2188,\tAdjusted R-squared:  0.2026 \n",
       "F-statistic: 13.45 on 1 and 48 DF,  p-value: 0.0006137\n"
      ]
     },
     "metadata": {},
     "output_type": "display_data"
    },
    {
     "data": {
      "image/png": "[encoded data removed]",
      "text/plain": [
       "plot without title"
      ]
     },
     "metadata": {},
     "output_type": "display_data"
    }
   ],
   "source": [
    "reg.data.5 = sim.data(0, 0, 10, 10, 50, 5)\n",
    "mod.5 = lm(y ~ x, data = reg.data.5)\n",
    "reg.data.5$score <- predict(mod.5, data = reg.data.5)\n",
    "reg.data.5$resids <- reg.data.5$y - reg.data.5$score\n",
    "plot.regression(reg.data.5, mod.5)"
   ]
  },
  {
   "cell_type": "markdown",
   "metadata": {},
   "source": [
    "### Evaluation of regression models\n",
    "\n",
    "Now that you have built a regression model, let's look at how you can quantitatively evaluate the performance of a regression model. The evaluation of regression models is based on measurements of the errors. The errors of a regression model can be visualized as shown in the figure below. \n",
    "\n",
    "![](img/Errors.jpg)\n",
    "\n",
    "<center>**Measuring errors for a regression model**\n",
    "$$Where\\\\\n",
    "\\bar{Y} = mean(y_i)\\\\\n",
    "\\\\\\hat{y_i} = regression\\ estimate\\\\\n",
    "SSE = sum\\ square\\ explained\\ = \\Sigma_i{(\\hat{y_i} - \\bar{y_i})^2}\\\\\n",
    "SSR = sum\\ square\\ residual\\ = \\Sigma_i{(y_i - \\hat{y_i})}\\\\\n",
    "SST = sum\\ square\\ total\\ = \\Sigma_i(y_i - \\bar{Y})^2$$\n",
    "\n",
    "The goal of regression is to minimize the residual error, $SSR$. Specifically we wish to explain the maximum amount of the variance in the original data as possible with our model. We can quantify this idea with coeficient of determination also known as $R^2$.\n",
    "\n",
    "$$R^2 = 1 - \\frac{SSR}{SST}\\\\\n",
    "so\\ as\\\\\n",
    "SSR \\rightarrow 0\\\\\n",
    "R^2 \\rightarrow 1$$\n",
    "\n",
    "In words, $R^2$ is the fraction of the variance of the original data explained by the model. A model with perfectly explain the data has $R^2 = 1$. A model which does not explain the data at all has $R^2 = 0$.\n",
    "\n",
    "However, there are two problems with $R^2$. </center>\n",
    " - $R^2$ is not bias adjusted for degrees of freedom.\n",
    " - More importantly, there is no adjustment for the number of model parameters. As the number of model parameters increases $SSR$ will generally decrease. Without an adjustment you will get a false sense of model performance.\n",
    " \n",
    "To addresses these related issues, we can use adjusted $R^2$.\n",
    "\n",
    "$$R^2_{adj} = 1 - \\frac{\\frac{SSR}{df_{SSR}}}{\\frac{SST}{df_{SST}}} = 1 - \\frac{var_{residual}}{var_{total}}\\\\\n",
    "where\\\\\n",
    "df_SSR = SSR\\ degrees\\ of\\ fredom\\\\\n",
    "df_SST = SST\\ degrees\\ of\\ fredom$$\n",
    "\n",
    "This gives $R^2_{adj}$ as:\n",
    "\n",
    "$$R^2_{adj} = 1 - (1 - R^2) \\frac{n - 1}{n - k}\\\\ \n",
    "where\\\\\n",
    "n = number\\ of\\ data\\ samples\\\\\n",
    "k = number\\ of\\ model\\ coeficients$$\n",
    "\n",
    "Or, we can rewrite $R^2_{adj}$ as:\n",
    "\n",
    "$$R^2_{adj} =  1.0 - \\frac{SSR}{SST}  \\frac{n - 1}{n - 1 - k}$$\n",
    "\n",
    "Another measure of regression performance is root mean square error or $RMSE$:\n",
    "\n",
    "$$RMSE = \\sqrt{ \\frac{\\Sigma^n_{i-1} (y_i - \\hat{y_i})^2}{n}} = \\frac{\\sqrt{SSR}}{n}$$\n",
    "\n",
    "**Your Turn:** Examine the performance metrics for the previous two regressions. How do SSE, SSR, SST, $R^2$, and RMSE compare?"
   ]
  },
  {
   "cell_type": "markdown",
   "metadata": {},
   "source": [
    "## Scaling Data\n",
    "\n",
    "When performing regression with numeric variables you will almost **always scale the data**.  Scaling data is important not just for regression, but most other machine learning models. Some reasons to scale regression data include:\n",
    "\n",
    "- The intercept may be a long way from the actual data. With scaled features, the intercept is at the centroid of the distribution. \n",
    "- Scaling prevents features with a large numerical range from overwhelming featuures with small numerical values. Numerical range is not an indicator of feature importance!\n",
    "\n",
    "There are several possibile approaches to scaling data:\n",
    " - Scale the features or independent variables. This is the most common practice.\n",
    " - Scale the label or dependent variable.\n",
    " - Scale both, which is another common practice\n",
    " \n",
    "In this case, we will just scale the one feature. Execute the code in the cell below and examine the results. "
   ]
  },
  {
   "cell_type": "code",
   "execution_count": 7,
   "metadata": {
    "collapsed": false
   },
   "outputs": [
    {
     "name": "stdout",
     "output_type": "stream",
     "text": [
      "'data.frame':\t50 obs. of  5 variables:\n",
      " $ x      : num  0 0.204 0.408 0.612 0.816 ...\n",
      " $ y      : num  -0.972 -0.19 -0.13 0.296 -0.224 ...\n",
      " $ score  : num  -0.5019 -0.2858 -0.0697 0.1464 0.3625 ...\n",
      " $ resids : num  -0.47 0.0959 -0.0602 0.1492 -0.5863 ...\n",
      " $ x.scale: num [1:50, 1] -1.68 -1.61 -1.54 -1.47 -1.41 ...\n",
      "  ..- attr(*, \"scaled:center\")= num 5\n",
      "  ..- attr(*, \"scaled:scale\")= num 2.97\n"
     ]
    }
   ],
   "source": [
    "reg.data$x.scale = scale(reg.data$x)\n",
    "str(reg.data)"
   ]
  },
  {
   "cell_type": "markdown",
   "metadata": {},
   "source": [
    "Notice that the new `x.scale` feature has some additional attributes. These attributes are used to scale new data on which you are making predicitons. This model **will not work on unscaled** data. \n",
    "\n",
    "Run the code in the cell below to create and evaluate a regression model using the scaled data. "
   ]
  },
  {
   "cell_type": "code",
   "execution_count": 25,
   "metadata": {
    "collapsed": false
   },
   "outputs": [
    {
     "name": "stderr",
     "output_type": "stream",
     "text": [
      "`stat_bin()` using `bins = 30`. Pick better value with `binwidth`.\n"
     ]
    },
    {
     "name": "stdout",
     "output_type": "stream",
     "text": [
      "SSE = 486.267181812101 \n",
      "SSR = 73.7755981654111 \n",
      "SST = 560.042779977513 \n",
      "RMSE = 10.1305662877521 \n",
      "Adjusted R^2 = 0.862662303539607 \n",
      "Intercept = 4.79256764055477 \n",
      "Slope = 3.15020952271141 \n",
      "\n",
      "\n",
      "Summary on R Model Object"
     ]
    },
    {
     "data": {
      "text/plain": [
       "\n",
       "Call:\n",
       "lm(formula = y ~ x.scale, data = reg.data)\n",
       "\n",
       "Residuals:\n",
       "    Min      1Q  Median      3Q     Max \n",
       "-2.3698 -0.8087  0.0670  0.7384  2.5098 \n",
       "\n",
       "Coefficients:\n",
       "            Estimate Std. Error t value Pr(>|t|)    \n",
       "(Intercept)   4.7926     0.1753   27.34   <2e-16 ***\n",
       "x.scale       3.1502     0.1771   17.79   <2e-16 ***\n",
       "---\n",
       "Signif. codes:  0 '***' 0.001 '**' 0.01 '*' 0.05 '.' 0.1 ' ' 1\n",
       "\n",
       "Residual standard error: 1.24 on 48 degrees of freedom\n",
       "Multiple R-squared:  0.8683,\tAdjusted R-squared:  0.8655 \n",
       "F-statistic: 316.4 on 1 and 48 DF,  p-value: < 2.2e-16\n"
      ]
     },
     "metadata": {},
     "output_type": "display_data"
    },
    {
     "data": {
      "image/png": "[encoded data removed]",
      "text/plain": [
       "plot without title"
      ]
     },
     "metadata": {},
     "output_type": "display_data"
    }
   ],
   "source": [
    "mod.scale = lm(y ~ x.scale, data = reg.data)\n",
    "plot.regression(reg.data, x = 'x.scale', mod.scale)"
   ]
  },
  {
   "cell_type": "markdown",
   "metadata": {},
   "source": [
    "Examine these results and compare them to the results for the unscaled regression. Which performance statistics are the same and which are different?\n",
    "\n",
    "**Your Turn:** In the cell below use the data you created earlier to compute and evaluate a regression model using a scaled feature. Which performance metrics are the same and which are different."
   ]
  },
  {
   "cell_type": "code",
   "execution_count": 26,
   "metadata": {
    "collapsed": false
   },
   "outputs": [
    {
     "name": "stderr",
     "output_type": "stream",
     "text": [
      "`stat_bin()` using `bins = 30`. Pick better value with `binwidth`.\n"
     ]
    },
    {
     "name": "stdout",
     "output_type": "stream",
     "text": [
      "SSE = 621.533207411947 \n",
      "SSR = 1305.75637927546 \n",
      "SST = 1927.28958668741 \n",
      "RMSE = 12.9486084877489 \n",
      "Adjusted R^2 = 0.29366064657619 \n",
      "Intercept = 4.57764380355861 \n",
      "Slope = 3.56150967592008 \n",
      "\n",
      "\n",
      "Summary on R Model Object"
     ]
    },
    {
     "data": {
      "text/plain": [
       "\n",
       "Call:\n",
       "lm(formula = y ~ x.scale, data = reg.data.5)\n",
       "\n",
       "Residuals:\n",
       "    Min      1Q  Median      3Q     Max \n",
       "-9.2920 -3.3445 -0.2418  3.9459 12.6719 \n",
       "\n",
       "Coefficients:\n",
       "            Estimate Std. Error t value Pr(>|t|)    \n",
       "(Intercept)   4.5776     0.7376   6.206 1.21e-07 ***\n",
       "x.scale       3.5615     0.7451   4.780 1.70e-05 ***\n",
       "---\n",
       "Signif. codes:  0 '***' 0.001 '**' 0.01 '*' 0.05 '.' 0.1 ' ' 1\n",
       "\n",
       "Residual standard error: 5.216 on 48 degrees of freedom\n",
       "Multiple R-squared:  0.3225,\tAdjusted R-squared:  0.3084 \n",
       "F-statistic: 22.85 on 1 and 48 DF,  p-value: 1.699e-05\n"
      ]
     },
     "metadata": {},
     "output_type": "display_data"
    },
    {
     "data": {
      "image/png": "[encoded data removed]",
      "text/plain": [
       "plot without title"
      ]
     },
     "metadata": {},
     "output_type": "display_data"
    }
   ],
   "source": [
    "reg.data.5$x.scale = scale(reg.data.5$x)\n",
    "mod.5.scale = lm(y ~ x.scale, data = reg.data.5)\n",
    "reg.data.5$score <- predict(mod.5.scale, data = reg.data.5)\n",
    "reg.data.5$resids <- reg.data.5$y - reg.data.5$score\n",
    "plot.regression(reg.data.5, mod.5.scale, x = 'x.scale')"
   ]
  },
  {
   "cell_type": "markdown",
   "metadata": {},
   "source": [
    "## Linear regression assumptions\n",
    "\n",
    "At this point we should discuss a few key assumtions of linear regression. Keep these points in mind whenever you used these models. \n",
    "\n",
    "- Linear relationship between dependent variable and the coeficients of the independent variables.\n",
    "- Measurement error is independent and random. Technically, we say that the error is **independent identical distribution, or iid**.\n",
    "- Errors arise from the dependent variable only.\n",
    "- There is no multicolinearity. In other words, there is no significant correlation between the independent variables.\n",
    "- Residuals are **homoscedastic** (constant variance).  In other words, the errors are the same across all groups of independent variables. The opposite of homoscedastic is **heteroscedastic**.\n",
    "\n",
    "The diagram below illustrates the iid errors for the dependent variable only.\n",
    "\n",
    "![](img/IndependentErrors.jpg)"
   ]
  },
  {
   "cell_type": "markdown",
   "metadata": {
    "collapsed": true
   },
   "source": [
    "## Linear regressions are not just for strait lines\n",
    "\n",
    "A linear model is linear in its coeficients, but that does not mean we are limited to straight lines, **a common misconception**.  In fact, a linear model need only be linear in its coeficients. A **non-comprehensive** list of functions which can be included in a linear model includes:\n",
    "\n",
    "- Polynomials, but beware of polynomials of degree 3 or above.\n",
    "- Splines and smoothing kernels.\n",
    "- Triganometric.\n",
    "- Logrithmic and expontential.\n",
    "- Interation terms, which are the product of feature values. For example, the two-way interaction of `var1` and `var2` is specified at `var1:var2`, or `var1*var2`. Tdding a third variable, `var3` the three-way interaction, including all two-way interactions is modeled as `var1:var2:var3`. \n",
    "\n",
    "Clarify these concepts, let's look at an example. The code in the cell below computes a curved line using a second order polynomial with coeficients `c1 and c2` and adds Normally distributed noise.  Notice that the polynomial is defined by a linear sum of the components, defined by the coeficients. **Pay attention to the scaling of the feature.** Run this code and have a look at the head of the data frame."
   ]
  },
  {
   "cell_type": "code",
   "execution_count": 10,
   "metadata": {
    "collapsed": false
   },
   "outputs": [
    {
     "name": "stderr",
     "output_type": "stream",
     "text": [
      "Loading required package: dplyr\n",
      "\n",
      "Attaching package: 'dplyr'\n",
      "\n",
      "The following object is masked from 'package:gridExtra':\n",
      "\n",
      "    combine\n",
      "\n",
      "The following objects are masked from 'package:stats':\n",
      "\n",
      "    filter, lag\n",
      "\n",
      "The following objects are masked from 'package:base':\n",
      "\n",
      "    intersect, setdiff, setequal, union\n",
      "\n"
     ]
    },
    {
     "data": {
      "text/html": [
       "<table>\n",
       "<thead><tr><th scope=col>x</th><th scope=col>y</th></tr></thead>\n",
       "<tbody>\n",
       "\t<tr><td>-1.680686</td><td>-0.579761</td></tr>\n",
       "\t<tr><td>-1.612087</td><td>-5.831707</td></tr>\n",
       "\t<tr><td>-1.543487</td><td> 5.713114</td></tr>\n",
       "\t<tr><td>-1.474888</td><td> 5.503811</td></tr>\n",
       "\t<tr><td>-1.406288</td><td> 8.467810</td></tr>\n",
       "\t<tr><td>-1.337689</td><td>-1.607674</td></tr>\n",
       "</tbody>\n",
       "</table>\n"
      ],
      "text/latex": [
       "\\begin{tabular}{r|ll}\n",
       " x & y\\\\\n",
       "\\hline\n",
       "\t -1.680686 & -0.579761\\\\\n",
       "\t -1.612087 & -5.831707\\\\\n",
       "\t -1.543487 &  5.713114\\\\\n",
       "\t -1.474888 &  5.503811\\\\\n",
       "\t -1.406288 &  8.467810\\\\\n",
       "\t -1.337689 & -1.607674\\\\\n",
       "\\end{tabular}\n"
      ],
      "text/markdown": [
       "\n",
       "x | y | \n",
       "|---|---|---|---|---|---|\n",
       "| -1.680686 | -0.579761 | \n",
       "| -1.612087 | -5.831707 | \n",
       "| -1.543487 |  5.713114 | \n",
       "| -1.474888 |  5.503811 | \n",
       "| -1.406288 |  8.467810 | \n",
       "| -1.337689 | -1.607674 | \n",
       "\n",
       "\n"
      ],
      "text/plain": [
       "  x         y        \n",
       "1 -1.680686 -0.579761\n",
       "2 -1.612087 -5.831707\n",
       "3 -1.543487  5.713114\n",
       "4 -1.474888  5.503811\n",
       "5 -1.406288  8.467810\n",
       "6 -1.337689 -1.607674"
      ]
     },
     "metadata": {},
     "output_type": "display_data"
    }
   ],
   "source": [
    "sim.data.ploy <- function(x1, y1, x2, y2, c1 = 1.0, c2 = 0.5, n, sd){\n",
    "  require(dplyr)\n",
    "  error <- rnorm(n, mean = 0, sd = sd)\n",
    "  df = data.frame(\n",
    "              x = seq(from = x1, to = x2, length.out = n),\n",
    "              y = (seq(from = y1, to = y2, length.out = n))\n",
    "            )\n",
    "  df = df %>% mutate(y = c1 * y + c2 * y^2 + error)\n",
    "  df$x = scale(df$x)\n",
    "  df\n",
    "}\n",
    "reg.data.poly = sim.data.ploy(0, 0, 10, 10, n = 50, sd = 3)\n",
    "head(reg.data.poly)"
   ]
  },
  {
   "cell_type": "markdown",
   "metadata": {},
   "source": [
    "Next, you will compute a linear polynomial model for these data. The code in the  cell below uses the `I()` function which literally **Interprets** the argument. In this case `I(x^2)` is interpreted as the second order polynomial term. Run this code and examine the results. "
   ]
  },
  {
   "cell_type": "code",
   "execution_count": 11,
   "metadata": {
    "collapsed": false
   },
   "outputs": [
    {
     "name": "stderr",
     "output_type": "stream",
     "text": [
      "`stat_bin()` using `bins = 30`. Pick better value with `binwidth`.\n"
     ]
    },
    {
     "data": {
      "image/png": "[encoded data removed]",
      "text/plain": [
       "plot without title"
      ]
     },
     "metadata": {},
     "output_type": "display_data"
    },
    {
     "data": {
      "image/png": "[encoded data removed]",
      "text/plain": [
       "Plot with title \"\""
      ]
     },
     "metadata": {},
     "output_type": "display_data"
    },
    {
     "data": {
      "image/png": "[encoded data removed]",
      "text/plain": [
       "Plot with title \"\""
      ]
     },
     "metadata": {},
     "output_type": "display_data"
    },
    {
     "data": {
      "image/png": "[encoded data removed]",
      "text/plain": [
       "Plot with title \"\""
      ]
     },
     "metadata": {},
     "output_type": "display_data"
    },
    {
     "name": "stdout",
     "output_type": "stream",
     "text": [
      "SSE = 16287.8742611155 \n",
      "SSR = 540.543413832446 \n",
      "SST = 16828.417674948 \n",
      "RMSE = 339.33071377324 \n",
      "Adjusted R^2 = 0.966512284629796 \n",
      "Intercept = 18.1044346049427 \n",
      "Slope = 17.506777315506 \n",
      "\n",
      "\n",
      "Summary on R Model Object"
     ]
    },
    {
     "data": {
      "text/plain": [
       "\n",
       "Call:\n",
       "lm(formula = y ~ x + I(x^2), data = reg.data.poly)\n",
       "\n",
       "Residuals:\n",
       "    Min      1Q  Median      3Q     Max \n",
       "-7.0450 -2.0849  0.0391  2.5074  6.6519 \n",
       "\n",
       "Coefficients:\n",
       "            Estimate Std. Error t value Pr(>|t|)    \n",
       "(Intercept)  18.1044     0.7196  25.157  < 2e-16 ***\n",
       "x            17.5068     0.4845  36.136  < 2e-16 ***\n",
       "I(x^2)        4.3602     0.5475   7.964 2.88e-10 ***\n",
       "---\n",
       "Signif. codes:  0 '***' 0.001 '**' 0.01 '*' 0.05 '.' 0.1 ' ' 1\n",
       "\n",
       "Residual standard error: 3.391 on 47 degrees of freedom\n",
       "Multiple R-squared:  0.9668,\tAdjusted R-squared:  0.9654 \n",
       "F-statistic: 684.6 on 2 and 47 DF,  p-value: < 2.2e-16\n"
      ]
     },
     "metadata": {},
     "output_type": "display_data"
    },
    {
     "data": {
      "image/png": "[encoded data removed]",
      "text/plain": [
       "Plot with title \"\""
      ]
     },
     "metadata": {},
     "output_type": "display_data"
    }
   ],
   "source": [
    "mod.poly = lm(y ~ x + I(x^2), reg.data.poly)\n",
    "reg.data.poly$score <- predict(mod.poly, data = reg.data.poly)\n",
    "reg.data.poly$resids <- reg.data.poly$y - reg.data.poly$score\n",
    "plot.regression(reg.data.poly, mod.poly, k = 3)"
   ]
  },
  {
   "cell_type": "markdown",
   "metadata": {},
   "source": [
    "There is quite a bit of new information both plotted and in the tables. Let's step through what all this means.\n",
    "\n",
    "- The plot of the data and the regression line. Look at this plot and try to decide if the fit is reasonably good.\n",
    "- The histogram of the residuals. Do these residuals appear to be close to Normally distributed?\n",
    "- A plot of fitted values (y in this case) vs. the residuals. Note the fitted smoothing regression line. Ideally, the distribution of residuals should not change with fitted values. \n",
    "- A Q-Q Normal plot of the residuals. Do these residuals appear to be close to Normally distributed?\n",
    "- A plot of fitted values vs. the square root of the standardized residuals. Note the fitted smoothing regression line. Ideally, the distribution of residuals should not change with fitted values and should be in the range $0 \\le \\sqrt{stdresid} \\le 1.5$ standard deviations. \n",
    "- The statistics we have already discussed.\n",
    "- The report from the R `summary` method.\n",
    "  - The model formula.\n",
    "  - Summary statistics of the residuals.\n",
    "  - For each model coeficient, 1) the value of the coeficient, 2) the standard error of the coeficient, 3) the t statistic for the coeficient, and 4) the p-value of the coeficient. The null hypothesis for the coeficient is that it is 0, and not contributing to the model.\n",
    "  - The standard error of the residuals, defined as:\n",
    "$$rse = \\frac{\\Sigma^N_i(y_i - \\hat{y_i})^2}{df} = \\frac{\\Sigma^N_i(y_i - \\hat{y_i})^2}{N - k}\\\\\n",
    "where\\\\\n",
    "k = number\\ of\\ model\\ parameters\n",
    "$$\n",
    "  - $R^2$ and $R^2_{adj}$.\n",
    "  - The F statistic and p-value for the model. The null hypthesis is that the model is not explaining the data, or that the distribution of residuals is the same as the distribution of the original data. \n",
    "- A leverage plot showing cooks distance. More on this latter."
   ]
  },
  {
   "cell_type": "markdown",
   "metadata": {},
   "source": [
    "**Your Turn:** Compute a linear model using a straight line for the polynomial curve data. Compare the plots and the performance metrics. **Use a different model name and copy the dataframe to a new name so the notebook works correctly**"
   ]
  },
  {
   "cell_type": "code",
   "execution_count": null,
   "metadata": {
    "collapsed": false
   },
   "outputs": [],
   "source": []
  },
  {
   "cell_type": "markdown",
   "metadata": {},
   "source": [
    "## Scaling Revisited\n",
    "\n",
    "**Your Turn:** Now that you have worked with scaled and unscaled models and the various summary statistics try this exerice. Use the R `summary` function to compute model evaluations for the two (scaled and unscaled feature) straight line regression models you computed. Compare these results noticing the diffences. "
   ]
  },
  {
   "cell_type": "code",
   "execution_count": 12,
   "metadata": {
    "collapsed": false
   },
   "outputs": [
    {
     "data": {
      "text/plain": [
       "\n",
       "Call:\n",
       "lm(formula = y ~ x, data = reg.data)\n",
       "\n",
       "Residuals:\n",
       "    Min      1Q  Median      3Q     Max \n",
       "-2.3698 -0.8087  0.0670  0.7384  2.5098 \n",
       "\n",
       "Coefficients:\n",
       "            Estimate Std. Error t value Pr(>|t|)    \n",
       "(Intercept) -0.50195    0.34546  -1.453    0.153    \n",
       "x            1.05890    0.05953  17.787   <2e-16 ***\n",
       "---\n",
       "Signif. codes:  0 '***' 0.001 '**' 0.01 '*' 0.05 '.' 0.1 ' ' 1\n",
       "\n",
       "Residual standard error: 1.24 on 48 degrees of freedom\n",
       "Multiple R-squared:  0.8683,\tAdjusted R-squared:  0.8655 \n",
       "F-statistic: 316.4 on 1 and 48 DF,  p-value: < 2.2e-16\n"
      ]
     },
     "metadata": {},
     "output_type": "display_data"
    },
    {
     "data": {
      "text/plain": [
       "\n",
       "Call:\n",
       "lm(formula = y ~ x.scale, data = reg.data)\n",
       "\n",
       "Residuals:\n",
       "    Min      1Q  Median      3Q     Max \n",
       "-2.3698 -0.8087  0.0670  0.7384  2.5098 \n",
       "\n",
       "Coefficients:\n",
       "            Estimate Std. Error t value Pr(>|t|)    \n",
       "(Intercept)   4.7926     0.1753   27.34   <2e-16 ***\n",
       "x.scale       3.1502     0.1771   17.79   <2e-16 ***\n",
       "---\n",
       "Signif. codes:  0 '***' 0.001 '**' 0.01 '*' 0.05 '.' 0.1 ' ' 1\n",
       "\n",
       "Residual standard error: 1.24 on 48 degrees of freedom\n",
       "Multiple R-squared:  0.8683,\tAdjusted R-squared:  0.8655 \n",
       "F-statistic: 316.4 on 1 and 48 DF,  p-value: < 2.2e-16\n"
      ]
     },
     "metadata": {},
     "output_type": "display_data"
    }
   ],
   "source": [
    "summary(mod)\n",
    "summary(mod.scale)"
   ]
  },
  {
   "cell_type": "markdown",
   "metadata": {},
   "source": [
    "## Homoscedastic and Heteroscedastic Errors\n",
    "\n",
    "Let's elaborate on some of the assumptions for the linear model. \n",
    "\n",
    "$$y_i = mx_i + b + \\epsilon_i \\\\\n",
    "where \\\\\n",
    "\\epsilon_i = N(0, \\sigma)$$\n",
    "\n",
    "In this model the errors, $\\epsilon_i$, do not depend on the dependent variable `y`. In this case we say the errors are **homoscedastic**.\n",
    "\n",
    "But what if:\n",
    "\n",
    "$$\\epsilon_i = N(0, f(x_i))\\\\\n",
    "such\\ as\\\\\n",
    "\\epsilon_i = N(0, e^{x_i})$$\n",
    "\n",
    "These errors are now **heteroscedastic**, with the errors dependent on `x` and hence not constant in `y`.\n",
    "\n",
    "Let's look at an example. In the code below the error increases linerly as `x` increases. Run this code and examine the result."
   ]
  },
  {
   "cell_type": "code",
   "execution_count": 13,
   "metadata": {
    "collapsed": false,
    "scrolled": false
   },
   "outputs": [
    {
     "name": "stderr",
     "output_type": "stream",
     "text": [
      "`stat_bin()` using `bins = 30`. Pick better value with `binwidth`.\n"
     ]
    },
    {
     "name": "stdout",
     "output_type": "stream",
     "text": [
      "SSE = 5649.87357991757 \n",
      "SSR = 5038.01727279959 \n",
      "SST = 10687.8908527172 \n",
      "RMSE = 117.705699581616 \n",
      "Adjusted R^2 = 0.51880347237309 \n",
      "Intercept = -1.41587046686929 \n",
      "Slope = 1.18779992470075 \n",
      "\n",
      "\n",
      "Summary on R Model Object"
     ]
    },
    {
     "data": {
      "text/plain": [
       "\n",
       "Call:\n",
       "lm(formula = y ~ x, data = reg.data.het)\n",
       "\n",
       "Residuals:\n",
       "    Min      1Q  Median      3Q     Max \n",
       "-27.085  -7.910   0.861   7.055  19.492 \n",
       "\n",
       "Coefficients:\n",
       "            Estimate Std. Error t value Pr(>|t|)  \n",
       "(Intercept)   -1.416      2.855  -0.496   0.6222  \n",
       "x              1.188      0.492   2.414   0.0196 *\n",
       "---\n",
       "Signif. codes:  0 '***' 0.001 '**' 0.01 '*' 0.05 '.' 0.1 ' ' 1\n",
       "\n",
       "Residual standard error: 10.24 on 48 degrees of freedom\n",
       "Multiple R-squared:  0.1083,\tAdjusted R-squared:  0.08972 \n",
       "F-statistic: 5.829 on 1 and 48 DF,  p-value: 0.01962\n"
      ]
     },
     "metadata": {},
     "output_type": "display_data"
    },
    {
     "data": {
      "text/plain": [
       "\n",
       "Call:\n",
       "lm(formula = y ~ x, data = reg.data.het)\n",
       "\n",
       "Residuals:\n",
       "    Min      1Q  Median      3Q     Max \n",
       "-27.085  -7.910   0.861   7.055  19.492 \n",
       "\n",
       "Coefficients:\n",
       "            Estimate Std. Error t value Pr(>|t|)  \n",
       "(Intercept)   -1.416      2.855  -0.496   0.6222  \n",
       "x              1.188      0.492   2.414   0.0196 *\n",
       "---\n",
       "Signif. codes:  0 '***' 0.001 '**' 0.01 '*' 0.05 '.' 0.1 ' ' 1\n",
       "\n",
       "Residual standard error: 10.24 on 48 degrees of freedom\n",
       "Multiple R-squared:  0.1083,\tAdjusted R-squared:  0.08972 \n",
       "F-statistic: 5.829 on 1 and 48 DF,  p-value: 0.01962\n"
      ]
     },
     "metadata": {},
     "output_type": "display_data"
    },
    {
     "data": {
      "image/png": "[encoded data removed]",
      "text/plain": [
       "plot without title"
      ]
     },
     "metadata": {},
     "output_type": "display_data"
    },
    {
     "data": {
      "image/png": "[encoded data removed]",
      "text/plain": [
       "Plot with title \"\""
      ]
     },
     "metadata": {},
     "output_type": "display_data"
    },
    {
     "data": {
      "image/png": "[encoded data removed]",
      "text/plain": [
       "Plot with title \"\""
      ]
     },
     "metadata": {},
     "output_type": "display_data"
    },
    {
     "data": {
      "image/png": "[encoded data removed]",
      "text/plain": [
       "Plot with title \"\""
      ]
     },
     "metadata": {},
     "output_type": "display_data"
    },
    {
     "data": {
      "image/png": "[encoded data removed]",
      "text/plain": [
       "Plot with title \"\""
      ]
     },
     "metadata": {},
     "output_type": "display_data"
    }
   ],
   "source": [
    "sim.data.het <- function(x1, y1, x2, y2, n, sd, factor = 5){\n",
    "  require(dplyr)\n",
    "  error <- rnorm(n, mean = 0, sd = sd)\n",
    "  error = error * seq(1, factor, length.out = n)\n",
    "  df = data.frame(\n",
    "              x = seq(from = x1, to = x2, length.out = n),\n",
    "              y = (seq(from = x1, to = x2, length.out = n))\n",
    "            )\n",
    "  df = df %>% mutate(y = y + error)\n",
    "}\n",
    "reg.data.het = sim.data.het(0, 0, 10, 10, n = 50, sd = 3)\n",
    "\n",
    "mod.het = lm(y ~ x, data = reg.data.het)\n",
    "reg.data.het = reg.data.het\n",
    "reg.data.het$score <- predict(mod.het, data = reg.data.het)\n",
    "reg.data.het$resids <- reg.data.het$y - reg.data.het$score\n",
    "plot.regression(reg.data.het, mod.het, k = 2)\n",
    "summary(mod.het)\n",
    "plot(mod.het)"
   ]
  },
  {
   "cell_type": "markdown",
   "metadata": {},
   "source": [
    "Notice the following about these results, which violate the homoscedastic error assumption:\n",
    "\n",
    "- The plot of residuals vs. the predicted value shows a systematic increase from left to right.\n",
    "- The Q-Q plot and the histogram show that the distribution of residuals has heavy tails and deviates from Normal.\n",
    "- The square root of the standardized residuals shows and increase from right to left on the plot."
   ]
  },
  {
   "cell_type": "markdown",
   "metadata": {},
   "source": [
    "## Leverage and Cook's Distance\n",
    "\n",
    "Up to now, we have only looked at regression models with Normally distributed noise or errors. But, in the real world there are errors and outliers in data. These errors and outliers can have greater or lesser effect, depending on how extreem they are and their placement with respect to the other data. \n",
    "\n",
    "You can imagine a regression line as a lever. Outliers that occur near the ends of the lever will have a greater influence all other factors being equal. \n",
    "\n",
    "One way to measure influence of a data point is Cook's distance, introduced by Dennis Cook in 1977. The influence for the `ith` data point can be computed as:\n",
    "\n",
    "$$D_i = \\frac{\\Sigma_{j=1}^n (\\hat{Y_j} - \\hat{Y_{j(i)}})^2}{(p+1)\\hat{\\sigma^2}} \\\\\n",
    "where \\\\\n",
    "p = number\\ of\\ parameters\\\\\n",
    "n = number\\ of\\ data\\ points$$\n",
    "\n",
    "In effect, cooks distance compares the difference between means with and without a given data point. Computing Cook's distance can be moderately computationally intensive for large data set. Typically, Cook's distance is measured in units of standard deviation.\n",
    "\n",
    "Let's make these concepts concrete with an example. "
   ]
  },
  {
   "cell_type": "code",
   "execution_count": 14,
   "metadata": {
    "collapsed": false
   },
   "outputs": [
    {
     "name": "stderr",
     "output_type": "stream",
     "text": [
      "`stat_bin()` using `bins = 30`. Pick better value with `binwidth`.\n"
     ]
    },
    {
     "name": "stdout",
     "output_type": "stream",
     "text": [
      "SSE = 786.774151513887 \n",
      "SSR = 463.819610402808 \n",
      "SST = 1250.5937619167 \n",
      "RMSE = 16.0566153370181 \n",
      "Adjusted R^2 = 0.621551513249043 \n",
      "Intercept = 5.09075258877918 \n",
      "Slope = 2.54147414352804 \n",
      "\n",
      "\n",
      "Summary on R Model Object"
     ]
    },
    {
     "data": {
      "text/plain": [
       "\n",
       "Call:\n",
       "lm(formula = y ~ x, data = error.data)\n",
       "\n",
       "Residuals:\n",
       "    Min      1Q  Median      3Q     Max \n",
       "-2.8868 -1.4292 -0.6954  0.6520 19.0247 \n",
       "\n",
       "Coefficients:\n",
       "            Estimate Std. Error t value Pr(>|t|)    \n",
       "(Intercept)   5.0908     0.4308  11.817 5.95e-16 ***\n",
       "x             2.5415     0.4351   5.841 4.11e-07 ***\n",
       "---\n",
       "Signif. codes:  0 '***' 0.001 '**' 0.01 '*' 0.05 '.' 0.1 ' ' 1\n",
       "\n",
       "Residual standard error: 3.077 on 49 degrees of freedom\n",
       "Multiple R-squared:  0.4105,\tAdjusted R-squared:  0.3984 \n",
       "F-statistic: 34.12 on 1 and 49 DF,  p-value: 4.109e-07\n"
      ]
     },
     "metadata": {},
     "output_type": "display_data"
    },
    {
     "data": {
      "text/plain": [
       "\n",
       "Call:\n",
       "lm(formula = y ~ x, data = error.data)\n",
       "\n",
       "Residuals:\n",
       "    Min      1Q  Median      3Q     Max \n",
       "-2.8868 -1.4292 -0.6954  0.6520 19.0247 \n",
       "\n",
       "Coefficients:\n",
       "            Estimate Std. Error t value Pr(>|t|)    \n",
       "(Intercept)   5.0908     0.4308  11.817 5.95e-16 ***\n",
       "x             2.5415     0.4351   5.841 4.11e-07 ***\n",
       "---\n",
       "Signif. codes:  0 '***' 0.001 '**' 0.01 '*' 0.05 '.' 0.1 ' ' 1\n",
       "\n",
       "Residual standard error: 3.077 on 49 degrees of freedom\n",
       "Multiple R-squared:  0.4105,\tAdjusted R-squared:  0.3984 \n",
       "F-statistic: 34.12 on 1 and 49 DF,  p-value: 4.109e-07\n"
      ]
     },
     "metadata": {},
     "output_type": "display_data"
    },
    {
     "data": {
      "image/png": "[encoded data removed]",
      "text/plain": [
       "plot without title"
      ]
     },
     "metadata": {},
     "output_type": "display_data"
    },
    {
     "data": {
      "image/png": "[encoded data removed]",
      "text/plain": [
       "Plot with title \"\""
      ]
     },
     "metadata": {},
     "output_type": "display_data"
    },
    {
     "data": {
      "image/png": "[encoded data removed]",
      "text/plain": [
       "Plot with title \"\""
      ]
     },
     "metadata": {},
     "output_type": "display_data"
    },
    {
     "data": {
      "image/png": "[encoded data removed]",
      "text/plain": [
       "Plot with title \"\""
      ]
     },
     "metadata": {},
     "output_type": "display_data"
    },
    {
     "data": {
      "image/png": "[encoded data removed]",
      "text/plain": [
       "Plot with title \"\""
      ]
     },
     "metadata": {},
     "output_type": "display_data"
    }
   ],
   "source": [
    "error.data = rbind(reg.data[, c('x', 'y')], c(0.0, 20.0))\n",
    "error.data$x = scale(error.data$x)\n",
    "mod.error = lm(y ~ x, data = error.data)\n",
    "error.data$score = predict(mod.error, error.data)\n",
    "error.data$resids = error.data$score - error.data$y\n",
    "plot.regression(error.data, mod.error, k = 2)\n",
    "summary(mod.error)\n",
    "plot(mod.error)"
   ]
  },
  {
   "cell_type": "markdown",
   "metadata": {
    "collapsed": true
   },
   "source": [
    "Notice the outlier which is quite noticeable in several plots. The Cook's distance for this outlier is more than 1.0 standard deviations. \n",
    "\n",
    "**Your Turn:** Repeat the previous regression model caluculation and evaluation, but place the outlier at `(5.0, 20)`. How does this change the effect of the outlier?"
   ]
  },
  {
   "cell_type": "code",
   "execution_count": 15,
   "metadata": {
    "collapsed": false
   },
   "outputs": [
    {
     "name": "stderr",
     "output_type": "stream",
     "text": [
      "`stat_bin()` using `bins = 30`. Pick better value with `binwidth`.\n"
     ]
    },
    {
     "name": "stdout",
     "output_type": "stream",
     "text": [
      "SSE = 786.774151513887 \n",
      "SSR = 300.506969701786 \n",
      "SST = 1087.28112121567 \n",
      "RMSE = 16.0566153370181 \n",
      "Adjusted R^2 = 0.71797563756191 \n",
      "Intercept = 5.09075258877918 \n",
      "Slope = 3.11854832193475 \n",
      "\n",
      "\n",
      "Summary on R Model Object"
     ]
    },
    {
     "data": {
      "text/plain": [
       "\n",
       "Call:\n",
       "lm(formula = y ~ x, data = error.data)\n",
       "\n",
       "Residuals:\n",
       "    Min      1Q  Median      3Q     Max \n",
       "-2.6680 -1.0682 -0.2181  0.4872 14.9092 \n",
       "\n",
       "Coefficients:\n",
       "            Estimate Std. Error t value Pr(>|t|)    \n",
       "(Intercept)   5.0908     0.3468  14.680  < 2e-16 ***\n",
       "x             3.1185     0.3502   8.904 8.19e-12 ***\n",
       "---\n",
       "Signif. codes:  0 '***' 0.001 '**' 0.01 '*' 0.05 '.' 0.1 ' ' 1\n",
       "\n",
       "Residual standard error: 2.476 on 49 degrees of freedom\n",
       "Multiple R-squared:  0.6181,\tAdjusted R-squared:  0.6103 \n",
       "F-statistic: 79.29 on 1 and 49 DF,  p-value: 8.187e-12\n"
      ]
     },
     "metadata": {},
     "output_type": "display_data"
    },
    {
     "data": {
      "text/plain": [
       "\n",
       "Call:\n",
       "lm(formula = y ~ x, data = error.data)\n",
       "\n",
       "Residuals:\n",
       "    Min      1Q  Median      3Q     Max \n",
       "-2.6680 -1.0682 -0.2181  0.4872 14.9092 \n",
       "\n",
       "Coefficients:\n",
       "            Estimate Std. Error t value Pr(>|t|)    \n",
       "(Intercept)   5.0908     0.3468  14.680  < 2e-16 ***\n",
       "x             3.1185     0.3502   8.904 8.19e-12 ***\n",
       "---\n",
       "Signif. codes:  0 '***' 0.001 '**' 0.01 '*' 0.05 '.' 0.1 ' ' 1\n",
       "\n",
       "Residual standard error: 2.476 on 49 degrees of freedom\n",
       "Multiple R-squared:  0.6181,\tAdjusted R-squared:  0.6103 \n",
       "F-statistic: 79.29 on 1 and 49 DF,  p-value: 8.187e-12\n"
      ]
     },
     "metadata": {},
     "output_type": "display_data"
    },
    {
     "data": {
      "image/png": "[encoded data removed]",
      "text/plain": [
       "plot without title"
      ]
     },
     "metadata": {},
     "output_type": "display_data"
    },
    {
     "data": {
      "image/png": "[encoded data removed]",
      "text/plain": [
       "Plot with title \"\""
      ]
     },
     "metadata": {},
     "output_type": "display_data"
    },
    {
     "data": {
      "image/png": "[encoded data removed]",
      "text/plain": [
       "Plot with title \"\""
      ]
     },
     "metadata": {},
     "output_type": "display_data"
    },
    {
     "data": {
      "image/png": "[encoded data removed]",
      "text/plain": [
       "Plot with title \"\""
      ]
     },
     "metadata": {},
     "output_type": "display_data"
    },
    {
     "data": {
      "image/png": "[encoded data removed]",
      "text/plain": [
       "Plot with title \"\""
      ]
     },
     "metadata": {},
     "output_type": "display_data"
    }
   ],
   "source": [
    "error.data = rbind(reg.data[, c('x', 'y')], c(5.0, 20.0))\n",
    "error.data$x = scale(error.data$x)\n",
    "mod.error = lm(y ~ x, data = error.data)\n",
    "error.data$score = predict(mod.error, error.data)\n",
    "error.data$resids = error.data$score - error.data$y\n",
    "plot.regression(error.data, mod.error, k = 2)\n",
    "summary(mod.error)\n",
    "plot(mod.error)"
   ]
  },
  {
   "cell_type": "markdown",
   "metadata": {},
   "source": [
    "## Bootstrapping regression\n",
    "\n",
    "The bootstrap method can be applied to regresson models. Bootstraping a regression model gives insight on how variable the model parameters are. \n",
    "\n",
    "As with most statistics, it is possible to bootstrap most any regression model. However, since bootstrap resampling uses a large number of subsamples, it can be computationally intensive. For large-scale problems it is necessary to using other resampling methods like cross-validation.\n",
    "\n",
    "The code in the cell below computes 10,000 regression models using bootstrapped data samples. Run this code and examine the results"
   ]
  },
  {
   "cell_type": "code",
   "execution_count": 16,
   "metadata": {
    "collapsed": false
   },
   "outputs": [
    {
     "name": "stderr",
     "output_type": "stream",
     "text": [
      "Loading required package: simpleboot\n",
      "Warning message:\n",
      "\"package 'simpleboot' was built under R version 3.3.2\"Loading required package: boot\n",
      "Simple Bootstrap Routines (1.1-3 2008-04-30)\n"
     ]
    },
    {
     "data": {
      "image/png": "[encoded data removed]",
      "text/plain": [
       "plot without title"
      ]
     },
     "metadata": {},
     "output_type": "display_data"
    }
   ],
   "source": [
    "## Bootstrap and plot the linear model\n",
    "require(simpleboot)\n",
    "reg.data.2 = reg.data\n",
    "# Scale, but loose the scaling attributes as they break lm.boot\n",
    "reg.data.2$x = scale(reg.data$x)[1:nrow(reg.data)]  \n",
    "mod.3 = lm(y ~ x, data = reg.data.2)\n",
    "mod.boot = lm.boot(mod.3, R = 10000)\n",
    "plot(mod.boot)"
   ]
  },
  {
   "cell_type": "markdown",
   "metadata": {},
   "source": [
    "Notice the bootstrap confidence intervals around the regression line in the plot above.\n",
    "\n",
    "You can also evaluate the confidence intervals around the bootstraped values of the model coeficients. Run the code in the cell below to do just this."
   ]
  },
  {
   "cell_type": "code",
   "execution_count": 17,
   "metadata": {
    "collapsed": false
   },
   "outputs": [
    {
     "data": {
      "image/png": "[encoded data removed]",
      "text/plain": [
       "Plot with title \"Histogram of distribution of the slope\""
      ]
     },
     "metadata": {},
     "output_type": "display_data"
    }
   ],
   "source": [
    "## Plot the histogram of the bootstrapped coeficents\n",
    "plot.dist <- function(a, name = 'Intercept', nbins = 80, p = 0.05){\n",
    "  maxs = max(a)\n",
    "  mins = min(a)\n",
    "  breaks = seq(maxs, mins, length.out = (nbins + 1))\n",
    "  hist(a, breaks = breaks, \n",
    "       main = paste('Histogram of distribution of the', name), \n",
    "       xlab = paste('Values of', name))\n",
    "  abline(v = mean(a), lwd = 4, col = 'red')\n",
    "  abline(v = quantile(a, probs = p/2), lty = 3, col = 'red', lwd = 3)  \n",
    "  abline(v = quantile(a, probs = (1 - p/2)), lty = 3, col = 'red', lwd = 3)\n",
    "}\n",
    "\n",
    "## View distribution of model coeficients\n",
    "intercept = sapply(1:length(mod.boot$boot.list),\n",
    "                   function(x) mod.boot$boot.list[[x]]$coef[1])\n",
    "slope = sapply(1:length(mod.boot$boot.list),\n",
    "               function(x) mod.boot$boot.list[[x]]$coef[2])\n",
    "par(mfrow = c(1,2))\n",
    "plot.dist(intercept, name = 'intercept')\n",
    "plot.dist(slope, name = 'slope')\n",
    "par(mfrow = c(1,1))"
   ]
  },
  {
   "cell_type": "markdown",
   "metadata": {},
   "source": [
    "Notice that the 95% confidence interval for these model coeficients are in a fairly narrow range. \n",
    "\n",
    "**Your Turn:** Create and evaluate a bootstrap resampled version of one of the regression models you have created. **Hint**, make sure you feature does not have the scaling attribute or `lm.boot` will not work. "
   ]
  },
  {
   "cell_type": "code",
   "execution_count": null,
   "metadata": {
    "collapsed": false
   },
   "outputs": [],
   "source": []
  },
  {
   "cell_type": "markdown",
   "metadata": {},
   "source": [
    "#### Copyright 2017, Stephen F Elston. All rights reserved."
   ]
  }
 ],
 "metadata": {
  "anaconda-cloud": {},
  "kernelspec": {
   "display_name": "R",
   "language": "R",
   "name": "ir"
  },
  "language_info": {
   "codemirror_mode": "r",
   "file_extension": ".r",
   "mimetype": "text/x-r-source",
   "name": "R",
   "pygments_lexer": "r",
   "version": "3.3.1"
  }
 },
 "nbformat": 4,
 "nbformat_minor": 1
}
